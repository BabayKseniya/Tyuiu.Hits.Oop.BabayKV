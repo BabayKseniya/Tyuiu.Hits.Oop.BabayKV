{
 "cells": [
  {
   "cell_type": "markdown",
   "metadata": {},
   "source": [
    "<h1 style=\"color:DodgerBlue\">Индивидальный проект</h1>"
   ]
  },
  {
   "cell_type": "markdown",
   "metadata": {},
   "source": [
    "<h2 style=\"color:DodgerBlue\">Название проекта:</h2>\n",
    "\n",
    "----\n",
    "\n",
    "### Вариант задания №2\n"
   ]
  },
  {
   "cell_type": "markdown",
   "metadata": {},
   "source": [
    "<h2 style=\"color:DodgerBlue\">Описание проекта:</h2>\n",
    "\n",
    "----\n",
    "\n",
    "Создать базовый класс Student в C#, который будет представлять информацию о студентах. На основе этого класса разработать 2-3 производных класса, демонстрирующих принципы наследования и полиморфизма. В каждом из классов должны быть реализованы новые атрибуты и методы, а также переопределены некоторые методы базового класса для демонстрации полиморфизма. Требования к базовому классу Student: • Атрибуты: Имя (Name), Возраст (Age), Курс (Course). • Методы: o GetInfo(): метод для получения информации о студенте в виде строки. o Study(): метод для вывода сообщения о том, что студент учится. o TakeExam(): метод для вывода сообщения о сдаче экзамена.\n",
    "\n",
    "Требования к производным классам:\n",
    "1. Студент бакалавриата (BachelorStudent): Должен содержать дополнительные атрибуты, такие как Специальность (Specialty). Метод Study() должен быть переопределен для добавления информации о специальности при изучении предмета.\n",
    "2. Студент магистратуры (MasterStudent): Должен содержать дополнительные атрибуты, такие как Научный руководитель (ScientificAdvisor). Метод TakeExam() должен быть переопределен для добавления информации о научном руководителе при сдаче экзамена.\n",
    "3. Аспирант (PhDStudent) (если требуется третий класс): Должен содержать дополнительные атрибуты, такие как Тема диссертации (DissertationTopic). Метод Study() должен быть переопределен для добавления информации о теме диссертации при изучении предмета.\n",
    "\n",
    "#### Дополнительное задание\n",
    "Добавьте к сущестующим классам конструктора классов с использованием гетторов и сетторов и реализуйте взаимодействие объектов между собой"
   ]
  },
  {
   "cell_type": "markdown",
   "metadata": {},
   "source": [
    "<h2 style=\"color:DodgerBlue\">Реализация:</h2>\n",
    "\n",
    "----"
   ]
  },
  {
   "cell_type": "code",
   "execution_count": 7,
   "metadata": {
    "dotnet_interactive": {
     "language": "csharp"
    },
    "polyglot_notebook": {
     "kernelName": "csharp"
    }
   },
   "outputs": [
    {
     "name": "stdout",
     "output_type": "stream",
     "text": [
      "Ильдар (бакалавр, специальность: Искусственный интеллект и программирование ) изучает профильные предметы.\n",
      "Имя: Ильдар, Возраст: 20, Курс: 2, Специальность: Искусственный интеллект и программирование\n",
      "Ильдар сдает экзамен.\n",
      "\n",
      "Данила учится.\n",
      "Имя: Данила, Возраст: 19, Курс: 1, Научный руководитель: Профессор Лучников\n",
      "Данила (магистр) сдает экзамен под наблюдением научного руководителя Профессор Лучников.\n",
      "\n",
      "Карина (аспирант) изучает материалы, связанные с темой: Технология разработки и сопровождения программного продукта.\n",
      "Имя: Карина, Возраст: 29, Курс: 3, Тема диссертации: Технология разработки и сопровождения программного продукта\n",
      "Карина сдает экзамен.\n",
      "\n",
      "Ильдар обсуждает учебу с Данила.\n",
      "Данила обсуждает учебу с Карина.\n"
     ]
    }
   ],
   "source": [
    "class Student\n",
    "{\n",
    "    public string Name { get; set; }\n",
    "    public int Age { get; set; }\n",
    "    public int Course { get; set; }\n",
    "\n",
    "    public Student(string name, int age, int course)\n",
    "    {\n",
    "        Name = name;\n",
    "        Age = age;\n",
    "        Course = course;\n",
    "    }\n",
    "\n",
    "    public virtual string GetInfo()\n",
    "    {\n",
    "        return $\"Имя: {Name}, Возраст: {Age}, Курс: {Course}\";\n",
    "    }\n",
    "\n",
    "    public virtual void Study()\n",
    "    {\n",
    "        Console.WriteLine($\"{Name} учится.\");\n",
    "    }\n",
    "\n",
    "    public virtual void TakeExam()\n",
    "    {\n",
    "        Console.WriteLine($\"{Name} сдает экзамен.\");\n",
    "    }\n",
    "\n",
    "    public void DiscussStudy(Student otherStudent)\n",
    "    {\n",
    "        Console.WriteLine($\"{Name} обсуждает учебу с {otherStudent.Name}.\");\n",
    "    }\n",
    "}\n",
    "\n",
    "class BachelorStudent : Student\n",
    "{\n",
    "    public string Specialty { get; set; }\n",
    "\n",
    "    public BachelorStudent(string name, int age, int course, string specialty)\n",
    "        : base(name, age, course)\n",
    "    {\n",
    "        Specialty = specialty;\n",
    "    }\n",
    "\n",
    "    public override void Study()\n",
    "    {\n",
    "        Console.WriteLine($\"{Name} (бакалавр, специальность: {Specialty} ) изучает профильные предметы.\");\n",
    "    }\n",
    "\n",
    "    public override string GetInfo()\n",
    "    {\n",
    "        return base.GetInfo() + $\", Специальность: {Specialty}\";\n",
    "    }\n",
    "    \n",
    "}\n",
    "\n",
    "class MasterStudent : Student\n",
    "{\n",
    "    public string ScientificAdvisor { get; set; }\n",
    "\n",
    "    public MasterStudent(string name, int age, int course, string advisor)\n",
    "        : base(name, age, course)\n",
    "    {\n",
    "        ScientificAdvisor = advisor;\n",
    "    }\n",
    "\n",
    "    public override void TakeExam()\n",
    "    {\n",
    "         Console.WriteLine($\"{Name} (магистр) сдает экзамен под наблюдением научного руководителя {ScientificAdvisor}.\");\n",
    "    }\n",
    "\n",
    "    public override string GetInfo()\n",
    "    {\n",
    "        return base.GetInfo() + $\", Научный руководитель: {ScientificAdvisor}\";\n",
    "    }\n",
    "}\n",
    "\n",
    "class PhDStudent : Student\n",
    "{\n",
    "    public string DissertationTopic { get; set; }\n",
    "\n",
    "    public PhDStudent(string name, int age, int course, string topic)\n",
    "        : base(name, age, course)\n",
    "    {\n",
    "        DissertationTopic = topic;\n",
    "    }\n",
    "\n",
    "    public override void Study()\n",
    "    {\n",
    "        Console.WriteLine($\"{Name} (аспирант) изучает материалы, связанные с темой: {DissertationTopic}.\");\n",
    "    }\n",
    "\n",
    "    public override string GetInfo()\n",
    "    {\n",
    "        return base.GetInfo() + $\", Тема диссертации: {DissertationTopic}\";\n",
    "    }\n",
    "}\n",
    "\n",
    "        BachelorStudent bachelor = new BachelorStudent(\"Ильдар\", 20, 2, \"Искусственный интеллект и программирование\");\n",
    "        MasterStudent master = new MasterStudent(\"Данила\", 19, 1, \"Профессор Лучников\");\n",
    "        PhDStudent phd = new PhDStudent(\"Карина\", 29, 3, \"Технология разработки и сопровождения программного продукта\");\n",
    "\n",
    "        bachelor.Study();\n",
    "        Console.WriteLine(bachelor.GetInfo());\n",
    "        bachelor.TakeExam();\n",
    "\n",
    "        Console.WriteLine();\n",
    "\n",
    "        master.Study();\n",
    "        Console.WriteLine(master.GetInfo());\n",
    "        master.TakeExam(); \n",
    "\n",
    "        Console.WriteLine();\n",
    "\n",
    "        phd.Study();\n",
    "        Console.WriteLine(phd.GetInfo());\n",
    "        phd.TakeExam();\n",
    "\n",
    "        Console.WriteLine();\n",
    "\n",
    "        bachelor.DiscussStudy(master);\n",
    "        master.DiscussStudy(phd); "
   ]
  }
 ],
 "metadata": {
  "kernelspec": {
   "display_name": ".NET (C#)",
   "language": "C#",
   "name": ".net-csharp"
  },
  "polyglot_notebook": {
   "kernelInfo": {
    "defaultKernelName": "csharp",
    "items": [
     {
      "aliases": [],
      "languageName": "csharp",
      "name": "csharp"
     }
    ]
   }
  }
 },
 "nbformat": 4,
 "nbformat_minor": 2
}
