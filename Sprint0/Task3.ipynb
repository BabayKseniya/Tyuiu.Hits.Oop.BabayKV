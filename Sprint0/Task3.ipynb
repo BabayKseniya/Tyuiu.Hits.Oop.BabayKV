{
 "cells": [
  {
   "cell_type": "markdown",
   "metadata": {},
   "source": [
    "<h1 style=\"color:DodgerBlue\">Индивидальный проект</h1>"
   ]
  },
  {
   "cell_type": "markdown",
   "metadata": {},
   "source": [
    "<h2 style=\"color:DodgerBlue\">Название проекта:</h2>\n",
    "\n",
    "----\n",
    "\n",
    "### Вариант задания 2\n"
   ]
  },
  {
   "cell_type": "markdown",
   "metadata": {},
   "source": [
    "<h2 style=\"color:DodgerBlue\">Описание проекта:</h2>\n",
    "\n",
    "----\n",
    "\n",
    "Создать базовый класс Student в C#, который будет представлять информацию о студентах. На основе этого класса разработать 2-3 производных класса, демонстрирующих принципы наследования и полиморфизма. В каждом из классов должны быть реализованы новые атрибуты и методы, а также переопределены некоторые методы базового класса для демонстрации полиморфизма. Требования к базовому классу Student: • Атрибуты: Имя (Name), Возраст (Age), Курс (Course). • Методы: o GetInfo(): метод для получения информации о студенте в виде строки. o Study(): метод для вывода сообщения о том, что студент учится. o TakeExam(): метод для вывода сообщения о сдаче экзамена.\n",
    "\n",
    "Требования к производным классам:\n",
    "1. Студент бакалавриата (BachelorStudent): Должен содержать дополнительные атрибуты, такие как Специальность (Specialty). Метод Study() должен быть переопределен для добавления информации о специальности при изучении предмета.\n",
    "2. Студент магистратуры (MasterStudent): Должен содержать дополнительные атрибуты, такие как Научный руководитель (ScientificAdvisor). Метод TakeExam() должен быть переопределен для добавления информации о научном руководителе при сдаче экзамена.\n",
    "3. Аспирант (PhDStudent) (если требуется третий класс): Должен содержать дополнительные атрибуты, такие как Тема диссертации (DissertationTopic). Метод Study() должен быть переопределен для добавления информации о теме диссертации при изучении предмета.\n"
   ]
  },
  {
   "cell_type": "markdown",
   "metadata": {},
   "source": [
    "<h2 style=\"color:DodgerBlue\">Реализация:</h2>\n",
    "\n",
    "----"
   ]
  },
  {
   "cell_type": "code",
   "execution_count": 5,
   "metadata": {
    "dotnet_interactive": {
     "language": "csharp"
    },
    "polyglot_notebook": {
     "kernelName": "csharp"
    }
   },
   "outputs": [
    {
     "name": "stdout",
     "output_type": "stream",
     "text": [
      "Имя: Ильдар; Возраст: 20; Курс: 3; Специальность: Искусственный интеллект и программирование.\n",
      "Ильдар (бакалавр, специальность: Искусственный интеллект и программирование ) изучает профильные предметы.\n",
      "Ильдар сдает экзамен.\n",
      "\n",
      "Имя: Данила; Возраст: 19; Курс: 1; Научный руководитель: Профессор Лучников.\n",
      "Данила изучает предметы.\n",
      "Данила (магистр) сдает экзамен под наблюдением научного руководителя Профессор Лучников.\n",
      "\n",
      "Имя: Карина; Возраст: 29; Курс: 3; Тема диссертации: Технология разработки и сопровождения программного продукта.\n",
      "Карина (аспирант) изучает материалы, связанные с темой: Технология разработки и сопровождения программного продукта.\n",
      "Карина сдает экзамен.\n",
      "\n"
     ]
    }
   ],
   "source": [
    "public class Student\n",
    "{\n",
    "    public string Name { get; set; }\n",
    "    public string Age { get; set; }\n",
    "    public string Course { get; set; }\n",
    "\n",
    "    public Student(string name, string age, string course)\n",
    "    {\n",
    "        Name = name;\n",
    "        Age = age;\n",
    "        Course = course;\n",
    "    }\n",
    "\n",
    "    public virtual string GetInfo()\n",
    "    {\n",
    "        return $\"Имя: {Name}; Возраст: {Age}; Курс: {Course}\"; \n",
    "    }\n",
    "    public virtual void Study()\n",
    "    {\n",
    "        Console.WriteLine($\"{Name} изучает предметы.\");\n",
    "    }\n",
    "    public virtual void TakeExam()\n",
    "    {\n",
    "        Console.WriteLine($\"{Name} сдает экзамен.\");\n",
    "    }\n",
    "}\n",
    "public class BachelorStudent : Student\n",
    "{\n",
    "    public string Specialty{ get; set; }\n",
    "    public BachelorStudent(string name, string age, string course, string specialty)\n",
    "        :base(name, age, course)\n",
    "    {\n",
    "        Specialty = specialty;\n",
    "    }\n",
    "    public override string GetInfo()\n",
    "    {\n",
    "        return base.GetInfo() + $\"; Специальность: {Specialty}.\";\n",
    "    }\n",
    "    public override void Study()\n",
    "    {\n",
    "        Console.WriteLine($\"{Name} (бакалавр, специальность: {Specialty} ) изучает профильные предметы.\");\n",
    "    }\n",
    "}\n",
    "public class MasterStudent : Student\n",
    "{\n",
    "    public string ScientificAdvisor;\n",
    "    public MasterStudent(string name, string age, string course, string advisor)\n",
    "        :base(name, age, course)\n",
    "    {\n",
    "        ScientificAdvisor = advisor;\n",
    "    }\n",
    "    public override string GetInfo()\n",
    "    {\n",
    "        return base.GetInfo() + $\"; Научный руководитель: {ScientificAdvisor}.\";\n",
    "    }\n",
    "    public override void TakeExam()\n",
    "    {\n",
    "        Console.WriteLine($\"{Name} (магистр) сдает экзамен под наблюдением научного руководителя {ScientificAdvisor}.\");\n",
    "    }\n",
    "}\n",
    "public class PhDStudent : Student\n",
    "{\n",
    "    public string DissertationTopic;\n",
    "    public PhDStudent(string name, string age, string course, string topic)\n",
    "        :base(name, age, course)\n",
    "    {\n",
    "        DissertationTopic = topic;\n",
    "    }\n",
    "    public override string GetInfo()\n",
    "    {\n",
    "        return base.GetInfo() + $\"; Тема диссертации: {DissertationTopic}.\";\n",
    "    }\n",
    "    public override void Study()\n",
    "    {\n",
    "        Console.WriteLine($\"{Name} (аспирант) изучает материалы, связанные с темой: {DissertationTopic}.\");\n",
    "    }\n",
    "}\n",
    "Student[] students = new Student[]\n",
    "    {\n",
    "        new BachelorStudent(\"Ильдар\", \"20\", \"3\", \"Искусственный интеллект и программирование\"),\n",
    "        new MasterStudent(\"Данила\", \"19\", \"1\", \"Профессор Лучников\"),\n",
    "        new PhDStudent(\"Карина\", \"29\", \"3\", \"Технология разработки и сопровождения программного продукта\")\n",
    "    };\n",
    "foreach (var s in students)\n",
    "    {\n",
    "        Console.WriteLine(s.GetInfo());\n",
    "        s.Study();\n",
    "        s.TakeExam();\n",
    "        Console.WriteLine();\n",
    "    }"
   ]
  }
 ],
 "metadata": {
  "kernelspec": {
   "display_name": ".NET (C#)",
   "language": "C#",
   "name": ".net-csharp"
  },
  "polyglot_notebook": {
   "kernelInfo": {
    "defaultKernelName": "csharp",
    "items": [
     {
      "aliases": [],
      "languageName": "csharp",
      "name": "csharp"
     }
    ]
   }
  }
 },
 "nbformat": 4,
 "nbformat_minor": 2
}
